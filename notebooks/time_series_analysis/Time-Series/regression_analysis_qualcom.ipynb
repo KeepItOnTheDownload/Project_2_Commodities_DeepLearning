{
 "cells": [
  {
   "cell_type": "code",
   "execution_count": 15,
   "metadata": {},
   "outputs": [],
   "source": [
    "import numpy as np\n",
    "import pandas as pd\n",
    "from pathlib import Path\n",
    "%matplotlib inline"
   ]
  },
  {
   "cell_type": "markdown",
   "metadata": {},
   "source": [
    "# Regression Analysis: Seasonal Effects with Sklearn Linear Regression\n",
    "In this notebook, you will build a SKLearn linear regression model to predict qualcom (\"Close\") returns with *lagged* qualcom returns. "
   ]
  },
  {
   "cell_type": "code",
   "execution_count": 16,
   "metadata": {},
   "outputs": [
    {
     "data": {
      "text/html": [
       "<div>\n",
       "<style scoped>\n",
       "    .dataframe tbody tr th:only-of-type {\n",
       "        vertical-align: middle;\n",
       "    }\n",
       "\n",
       "    .dataframe tbody tr th {\n",
       "        vertical-align: top;\n",
       "    }\n",
       "\n",
       "    .dataframe thead th {\n",
       "        text-align: right;\n",
       "    }\n",
       "</style>\n",
       "<table border=\"1\" class=\"dataframe\">\n",
       "  <thead>\n",
       "    <tr style=\"text-align: right;\">\n",
       "      <th></th>\n",
       "      <th>Open</th>\n",
       "      <th>High</th>\n",
       "      <th>Low</th>\n",
       "      <th>Close</th>\n",
       "      <th>Adj Close</th>\n",
       "      <th>Volume</th>\n",
       "    </tr>\n",
       "    <tr>\n",
       "      <th>Date</th>\n",
       "      <th></th>\n",
       "      <th></th>\n",
       "      <th></th>\n",
       "      <th></th>\n",
       "      <th></th>\n",
       "      <th></th>\n",
       "    </tr>\n",
       "  </thead>\n",
       "  <tbody>\n",
       "    <tr>\n",
       "      <th>2019-12-12</th>\n",
       "      <td>86.839996</td>\n",
       "      <td>89.230003</td>\n",
       "      <td>86.370003</td>\n",
       "      <td>89.050003</td>\n",
       "      <td>89.050003</td>\n",
       "      <td>12164600</td>\n",
       "    </tr>\n",
       "    <tr>\n",
       "      <th>2019-12-13</th>\n",
       "      <td>88.910004</td>\n",
       "      <td>89.699997</td>\n",
       "      <td>87.559998</td>\n",
       "      <td>87.830002</td>\n",
       "      <td>87.830002</td>\n",
       "      <td>12269100</td>\n",
       "    </tr>\n",
       "    <tr>\n",
       "      <th>2019-12-16</th>\n",
       "      <td>89.279999</td>\n",
       "      <td>90.459999</td>\n",
       "      <td>88.349998</td>\n",
       "      <td>88.430000</td>\n",
       "      <td>88.430000</td>\n",
       "      <td>8719100</td>\n",
       "    </tr>\n",
       "    <tr>\n",
       "      <th>2019-12-17</th>\n",
       "      <td>89.000000</td>\n",
       "      <td>89.040001</td>\n",
       "      <td>87.680000</td>\n",
       "      <td>88.320000</td>\n",
       "      <td>88.320000</td>\n",
       "      <td>7485900</td>\n",
       "    </tr>\n",
       "    <tr>\n",
       "      <th>2019-12-18</th>\n",
       "      <td>88.540001</td>\n",
       "      <td>88.650002</td>\n",
       "      <td>87.589996</td>\n",
       "      <td>87.980003</td>\n",
       "      <td>87.980003</td>\n",
       "      <td>5860600</td>\n",
       "    </tr>\n",
       "  </tbody>\n",
       "</table>\n",
       "</div>"
      ],
      "text/plain": [
       "                 Open       High        Low      Close  Adj Close    Volume\n",
       "Date                                                                       \n",
       "2019-12-12  86.839996  89.230003  86.370003  89.050003  89.050003  12164600\n",
       "2019-12-13  88.910004  89.699997  87.559998  87.830002  87.830002  12269100\n",
       "2019-12-16  89.279999  90.459999  88.349998  88.430000  88.430000   8719100\n",
       "2019-12-17  89.000000  89.040001  87.680000  88.320000  88.320000   7485900\n",
       "2019-12-18  88.540001  88.650002  87.589996  87.980003  87.980003   5860600"
      ]
     },
     "execution_count": 16,
     "metadata": {},
     "output_type": "execute_result"
    }
   ],
   "source": [
    "# Futures contract on the qualcom price:\n",
    "\n",
    "qualcom = pd.read_csv(\n",
    "    Path(\"qualcom.csv\"), index_col=\"Date\",parse_dates=True\n",
    ")\n",
    "qualcom.tail()"
   ]
  },
  {
   "cell_type": "code",
   "execution_count": 17,
   "metadata": {},
   "outputs": [
    {
     "data": {
      "text/html": [
       "<div>\n",
       "<style scoped>\n",
       "    .dataframe tbody tr th:only-of-type {\n",
       "        vertical-align: middle;\n",
       "    }\n",
       "\n",
       "    .dataframe tbody tr th {\n",
       "        vertical-align: top;\n",
       "    }\n",
       "\n",
       "    .dataframe thead th {\n",
       "        text-align: right;\n",
       "    }\n",
       "</style>\n",
       "<table border=\"1\" class=\"dataframe\">\n",
       "  <thead>\n",
       "    <tr style=\"text-align: right;\">\n",
       "      <th></th>\n",
       "      <th>Open</th>\n",
       "      <th>High</th>\n",
       "      <th>Low</th>\n",
       "      <th>Close</th>\n",
       "      <th>Adj Close</th>\n",
       "      <th>Volume</th>\n",
       "    </tr>\n",
       "    <tr>\n",
       "      <th>Date</th>\n",
       "      <th></th>\n",
       "      <th></th>\n",
       "      <th></th>\n",
       "      <th></th>\n",
       "      <th></th>\n",
       "      <th></th>\n",
       "    </tr>\n",
       "  </thead>\n",
       "  <tbody>\n",
       "    <tr>\n",
       "      <th>2014-12-18</th>\n",
       "      <td>73.279999</td>\n",
       "      <td>73.360001</td>\n",
       "      <td>72.610001</td>\n",
       "      <td>73.360001</td>\n",
       "      <td>61.294304</td>\n",
       "      <td>8864600</td>\n",
       "    </tr>\n",
       "    <tr>\n",
       "      <th>2014-12-19</th>\n",
       "      <td>73.290001</td>\n",
       "      <td>73.730003</td>\n",
       "      <td>73.169998</td>\n",
       "      <td>73.430000</td>\n",
       "      <td>61.352810</td>\n",
       "      <td>16332000</td>\n",
       "    </tr>\n",
       "    <tr>\n",
       "      <th>2014-12-22</th>\n",
       "      <td>73.580002</td>\n",
       "      <td>74.660004</td>\n",
       "      <td>73.449997</td>\n",
       "      <td>74.559998</td>\n",
       "      <td>62.296947</td>\n",
       "      <td>9074200</td>\n",
       "    </tr>\n",
       "    <tr>\n",
       "      <th>2014-12-23</th>\n",
       "      <td>74.610001</td>\n",
       "      <td>75.120003</td>\n",
       "      <td>74.480003</td>\n",
       "      <td>74.599998</td>\n",
       "      <td>62.330364</td>\n",
       "      <td>6405800</td>\n",
       "    </tr>\n",
       "    <tr>\n",
       "      <th>2014-12-24</th>\n",
       "      <td>74.690002</td>\n",
       "      <td>75.150002</td>\n",
       "      <td>74.639999</td>\n",
       "      <td>74.660004</td>\n",
       "      <td>62.380505</td>\n",
       "      <td>3791900</td>\n",
       "    </tr>\n",
       "  </tbody>\n",
       "</table>\n",
       "</div>"
      ],
      "text/plain": [
       "                 Open       High        Low      Close  Adj Close    Volume\n",
       "Date                                                                       \n",
       "2014-12-18  73.279999  73.360001  72.610001  73.360001  61.294304   8864600\n",
       "2014-12-19  73.290001  73.730003  73.169998  73.430000  61.352810  16332000\n",
       "2014-12-22  73.580002  74.660004  73.449997  74.559998  62.296947   9074200\n",
       "2014-12-23  74.610001  75.120003  74.480003  74.599998  62.330364   6405800\n",
       "2014-12-24  74.690002  75.150002  74.639999  74.660004  62.380505   3791900"
      ]
     },
     "execution_count": 17,
     "metadata": {},
     "output_type": "execute_result"
    }
   ],
   "source": [
    "# Trim the dataset to begin on December 15, 2014\n",
    "qualcom = qualcom.loc[\"2014-12-17\" :, :]\n",
    "qualcom.head()"
   ]
  },
  {
   "cell_type": "markdown",
   "metadata": {},
   "source": [
    "# Data Preparation"
   ]
  },
  {
   "cell_type": "markdown",
   "metadata": {},
   "source": [
    "### Returns"
   ]
  },
  {
   "cell_type": "code",
   "execution_count": 18,
   "metadata": {},
   "outputs": [
    {
     "data": {
      "text/html": [
       "<div>\n",
       "<style scoped>\n",
       "    .dataframe tbody tr th:only-of-type {\n",
       "        vertical-align: middle;\n",
       "    }\n",
       "\n",
       "    .dataframe tbody tr th {\n",
       "        vertical-align: top;\n",
       "    }\n",
       "\n",
       "    .dataframe thead th {\n",
       "        text-align: right;\n",
       "    }\n",
       "</style>\n",
       "<table border=\"1\" class=\"dataframe\">\n",
       "  <thead>\n",
       "    <tr style=\"text-align: right;\">\n",
       "      <th></th>\n",
       "      <th>Open</th>\n",
       "      <th>High</th>\n",
       "      <th>Low</th>\n",
       "      <th>Close</th>\n",
       "      <th>Adj Close</th>\n",
       "      <th>Volume</th>\n",
       "      <th>Return</th>\n",
       "    </tr>\n",
       "    <tr>\n",
       "      <th>Date</th>\n",
       "      <th></th>\n",
       "      <th></th>\n",
       "      <th></th>\n",
       "      <th></th>\n",
       "      <th></th>\n",
       "      <th></th>\n",
       "      <th></th>\n",
       "    </tr>\n",
       "  </thead>\n",
       "  <tbody>\n",
       "    <tr>\n",
       "      <th>2019-12-12</th>\n",
       "      <td>86.839996</td>\n",
       "      <td>89.230003</td>\n",
       "      <td>86.370003</td>\n",
       "      <td>89.050003</td>\n",
       "      <td>89.050003</td>\n",
       "      <td>12164600</td>\n",
       "      <td>2.368094</td>\n",
       "    </tr>\n",
       "    <tr>\n",
       "      <th>2019-12-13</th>\n",
       "      <td>88.910004</td>\n",
       "      <td>89.699997</td>\n",
       "      <td>87.559998</td>\n",
       "      <td>87.830002</td>\n",
       "      <td>87.830002</td>\n",
       "      <td>12269100</td>\n",
       "      <td>-1.370018</td>\n",
       "    </tr>\n",
       "    <tr>\n",
       "      <th>2019-12-16</th>\n",
       "      <td>89.279999</td>\n",
       "      <td>90.459999</td>\n",
       "      <td>88.349998</td>\n",
       "      <td>88.430000</td>\n",
       "      <td>88.430000</td>\n",
       "      <td>8719100</td>\n",
       "      <td>0.683136</td>\n",
       "    </tr>\n",
       "    <tr>\n",
       "      <th>2019-12-17</th>\n",
       "      <td>89.000000</td>\n",
       "      <td>89.040001</td>\n",
       "      <td>87.680000</td>\n",
       "      <td>88.320000</td>\n",
       "      <td>88.320000</td>\n",
       "      <td>7485900</td>\n",
       "      <td>-0.124392</td>\n",
       "    </tr>\n",
       "    <tr>\n",
       "      <th>2019-12-18</th>\n",
       "      <td>88.540001</td>\n",
       "      <td>88.650002</td>\n",
       "      <td>87.589996</td>\n",
       "      <td>87.980003</td>\n",
       "      <td>87.980003</td>\n",
       "      <td>5860600</td>\n",
       "      <td>-0.384960</td>\n",
       "    </tr>\n",
       "  </tbody>\n",
       "</table>\n",
       "</div>"
      ],
      "text/plain": [
       "                 Open       High        Low      Close  Adj Close    Volume  \\\n",
       "Date                                                                          \n",
       "2019-12-12  86.839996  89.230003  86.370003  89.050003  89.050003  12164600   \n",
       "2019-12-13  88.910004  89.699997  87.559998  87.830002  87.830002  12269100   \n",
       "2019-12-16  89.279999  90.459999  88.349998  88.430000  88.430000   8719100   \n",
       "2019-12-17  89.000000  89.040001  87.680000  88.320000  88.320000   7485900   \n",
       "2019-12-18  88.540001  88.650002  87.589996  87.980003  87.980003   5860600   \n",
       "\n",
       "              Return  \n",
       "Date                  \n",
       "2019-12-12  2.368094  \n",
       "2019-12-13 -1.370018  \n",
       "2019-12-16  0.683136  \n",
       "2019-12-17 -0.124392  \n",
       "2019-12-18 -0.384960  "
      ]
     },
     "execution_count": 18,
     "metadata": {},
     "output_type": "execute_result"
    }
   ],
   "source": [
    "# Create a series using \"Close\" price percentage returns, drop any nan\"s, and check the results:\n",
    "# (Make sure to multiply the pct_change() results by 100)\n",
    "# In this case, you may have to replace inf, -inf values with np.nan\"s\n",
    "qualcom['Return'] = qualcom.Close.pct_change() * 100\n",
    "qualcom = qualcom.replace(-np.inf, np.nan).dropna()\n",
    "qualcom=qualcom.replace('$', '')\n",
    "qualcom.tail()"
   ]
  },
  {
   "cell_type": "markdown",
   "metadata": {},
   "source": [
    "### Lagged Returns "
   ]
  },
  {
   "cell_type": "code",
   "execution_count": 19,
   "metadata": {},
   "outputs": [
    {
     "data": {
      "text/html": [
       "<div>\n",
       "<style scoped>\n",
       "    .dataframe tbody tr th:only-of-type {\n",
       "        vertical-align: middle;\n",
       "    }\n",
       "\n",
       "    .dataframe tbody tr th {\n",
       "        vertical-align: top;\n",
       "    }\n",
       "\n",
       "    .dataframe thead th {\n",
       "        text-align: right;\n",
       "    }\n",
       "</style>\n",
       "<table border=\"1\" class=\"dataframe\">\n",
       "  <thead>\n",
       "    <tr style=\"text-align: right;\">\n",
       "      <th></th>\n",
       "      <th>Open</th>\n",
       "      <th>High</th>\n",
       "      <th>Low</th>\n",
       "      <th>Close</th>\n",
       "      <th>Adj Close</th>\n",
       "      <th>Volume</th>\n",
       "      <th>Return</th>\n",
       "      <th>Lagged_Return</th>\n",
       "    </tr>\n",
       "    <tr>\n",
       "      <th>Date</th>\n",
       "      <th></th>\n",
       "      <th></th>\n",
       "      <th></th>\n",
       "      <th></th>\n",
       "      <th></th>\n",
       "      <th></th>\n",
       "      <th></th>\n",
       "      <th></th>\n",
       "    </tr>\n",
       "  </thead>\n",
       "  <tbody>\n",
       "    <tr>\n",
       "      <th>2019-12-12</th>\n",
       "      <td>86.839996</td>\n",
       "      <td>89.230003</td>\n",
       "      <td>86.370003</td>\n",
       "      <td>89.050003</td>\n",
       "      <td>89.050003</td>\n",
       "      <td>12164600</td>\n",
       "      <td>2.368094</td>\n",
       "      <td>3.411787</td>\n",
       "    </tr>\n",
       "    <tr>\n",
       "      <th>2019-12-13</th>\n",
       "      <td>88.910004</td>\n",
       "      <td>89.699997</td>\n",
       "      <td>87.559998</td>\n",
       "      <td>87.830002</td>\n",
       "      <td>87.830002</td>\n",
       "      <td>12269100</td>\n",
       "      <td>-1.370018</td>\n",
       "      <td>2.368094</td>\n",
       "    </tr>\n",
       "    <tr>\n",
       "      <th>2019-12-16</th>\n",
       "      <td>89.279999</td>\n",
       "      <td>90.459999</td>\n",
       "      <td>88.349998</td>\n",
       "      <td>88.430000</td>\n",
       "      <td>88.430000</td>\n",
       "      <td>8719100</td>\n",
       "      <td>0.683136</td>\n",
       "      <td>-1.370018</td>\n",
       "    </tr>\n",
       "    <tr>\n",
       "      <th>2019-12-17</th>\n",
       "      <td>89.000000</td>\n",
       "      <td>89.040001</td>\n",
       "      <td>87.680000</td>\n",
       "      <td>88.320000</td>\n",
       "      <td>88.320000</td>\n",
       "      <td>7485900</td>\n",
       "      <td>-0.124392</td>\n",
       "      <td>0.683136</td>\n",
       "    </tr>\n",
       "    <tr>\n",
       "      <th>2019-12-18</th>\n",
       "      <td>88.540001</td>\n",
       "      <td>88.650002</td>\n",
       "      <td>87.589996</td>\n",
       "      <td>87.980003</td>\n",
       "      <td>87.980003</td>\n",
       "      <td>5860600</td>\n",
       "      <td>-0.384960</td>\n",
       "      <td>-0.124392</td>\n",
       "    </tr>\n",
       "  </tbody>\n",
       "</table>\n",
       "</div>"
      ],
      "text/plain": [
       "                 Open       High        Low      Close  Adj Close    Volume  \\\n",
       "Date                                                                          \n",
       "2019-12-12  86.839996  89.230003  86.370003  89.050003  89.050003  12164600   \n",
       "2019-12-13  88.910004  89.699997  87.559998  87.830002  87.830002  12269100   \n",
       "2019-12-16  89.279999  90.459999  88.349998  88.430000  88.430000   8719100   \n",
       "2019-12-17  89.000000  89.040001  87.680000  88.320000  88.320000   7485900   \n",
       "2019-12-18  88.540001  88.650002  87.589996  87.980003  87.980003   5860600   \n",
       "\n",
       "              Return  Lagged_Return  \n",
       "Date                                 \n",
       "2019-12-12  2.368094       3.411787  \n",
       "2019-12-13 -1.370018       2.368094  \n",
       "2019-12-16  0.683136      -1.370018  \n",
       "2019-12-17 -0.124392       0.683136  \n",
       "2019-12-18 -0.384960      -0.124392  "
      ]
     },
     "execution_count": 19,
     "metadata": {},
     "output_type": "execute_result"
    }
   ],
   "source": [
    "# Create a lagged return using the shift function\n",
    "qualcom['Lagged_Return'] = qualcom.Return.shift()\n",
    "qualcom = qualcom.replace(-np.inf, np.nan).dropna()\n",
    "qualcom.tail()"
   ]
  },
  {
   "cell_type": "markdown",
   "metadata": {},
   "source": [
    "### Train Test Split"
   ]
  },
  {
   "cell_type": "code",
   "execution_count": 20,
   "metadata": {},
   "outputs": [],
   "source": [
    "# Create a train/test split for the data using 2018-2019 for testing and the rest for training\n",
    "train = qualcom[:'2018']\n",
    "test = qualcom['2018':]\n"
   ]
  },
  {
   "cell_type": "code",
   "execution_count": 21,
   "metadata": {},
   "outputs": [],
   "source": [
    "# Create four dataframes:\n",
    "# X_train (training set using just the independent variables), X_test (test set of of just the independent variables)\n",
    "# Y_train (training set using just the \"y\" variable, i.e., \"Futures Return\"), Y_test (test set of just the \"y\" variable):\n",
    "X_train = train[\"Lagged_Return\"].to_frame()\n",
    "X_test = test[\"Lagged_Return\"].to_frame()\n",
    "y_train = train[\"Return\"]\n",
    "y_test = test[\"Return\"]"
   ]
  },
  {
   "cell_type": "code",
   "execution_count": 22,
   "metadata": {},
   "outputs": [
    {
     "data": {
      "text/html": [
       "<div>\n",
       "<style scoped>\n",
       "    .dataframe tbody tr th:only-of-type {\n",
       "        vertical-align: middle;\n",
       "    }\n",
       "\n",
       "    .dataframe tbody tr th {\n",
       "        vertical-align: top;\n",
       "    }\n",
       "\n",
       "    .dataframe thead th {\n",
       "        text-align: right;\n",
       "    }\n",
       "</style>\n",
       "<table border=\"1\" class=\"dataframe\">\n",
       "  <thead>\n",
       "    <tr style=\"text-align: right;\">\n",
       "      <th></th>\n",
       "      <th>Lagged_Return</th>\n",
       "    </tr>\n",
       "    <tr>\n",
       "      <th>Date</th>\n",
       "      <th></th>\n",
       "    </tr>\n",
       "  </thead>\n",
       "  <tbody>\n",
       "    <tr>\n",
       "      <th>2014-12-22</th>\n",
       "      <td>0.095418</td>\n",
       "    </tr>\n",
       "    <tr>\n",
       "      <th>2014-12-23</th>\n",
       "      <td>1.538878</td>\n",
       "    </tr>\n",
       "    <tr>\n",
       "      <th>2014-12-24</th>\n",
       "      <td>0.053648</td>\n",
       "    </tr>\n",
       "    <tr>\n",
       "      <th>2014-12-26</th>\n",
       "      <td>0.080437</td>\n",
       "    </tr>\n",
       "    <tr>\n",
       "      <th>2014-12-29</th>\n",
       "      <td>1.285828</td>\n",
       "    </tr>\n",
       "  </tbody>\n",
       "</table>\n",
       "</div>"
      ],
      "text/plain": [
       "            Lagged_Return\n",
       "Date                     \n",
       "2014-12-22       0.095418\n",
       "2014-12-23       1.538878\n",
       "2014-12-24       0.053648\n",
       "2014-12-26       0.080437\n",
       "2014-12-29       1.285828"
      ]
     },
     "execution_count": 22,
     "metadata": {},
     "output_type": "execute_result"
    }
   ],
   "source": [
    "X_train.head()"
   ]
  },
  {
   "cell_type": "markdown",
   "metadata": {},
   "source": [
    "# Linear Regression Model"
   ]
  },
  {
   "cell_type": "code",
   "execution_count": 23,
   "metadata": {},
   "outputs": [
    {
     "data": {
      "text/plain": [
       "LinearRegression(copy_X=True, fit_intercept=True, n_jobs=None, normalize=False)"
      ]
     },
     "execution_count": 23,
     "metadata": {},
     "output_type": "execute_result"
    }
   ],
   "source": [
    "# Create a Linear Regression model and fit it to the training data\n",
    "from sklearn.linear_model import LinearRegression\n",
    "\n",
    "# Fit a SKLearn linear regression using just the training set (X_train, Y_train):\n",
    "model = LinearRegression()\n",
    "model.fit(X_train, y_train)"
   ]
  },
  {
   "cell_type": "markdown",
   "metadata": {},
   "source": [
    "# Make predictions using the Testing Data\n",
    "\n",
    "Note: We want to evaluate the model using data that it has never seen before, in this case: X_test."
   ]
  },
  {
   "cell_type": "code",
   "execution_count": 24,
   "metadata": {},
   "outputs": [],
   "source": [
    "# Make a prediction of \"y\" values using just the test dataset\n",
    "predictions = model.predict(X_test)"
   ]
  },
  {
   "cell_type": "code",
   "execution_count": 25,
   "metadata": {},
   "outputs": [],
   "source": [
    "# Assemble actual y data (Y_test) with predicted y data (from just above) into two columns in a dataframe:\n",
    "Results = y_test.to_frame()\n",
    "Results[\"Predicted Return\"] = predictions\n",
    "#Results.head()"
   ]
  },
  {
   "cell_type": "code",
   "execution_count": 26,
   "metadata": {},
   "outputs": [
    {
     "data": {
      "text/plain": [
       "array([<matplotlib.axes._subplots.AxesSubplot object at 0x00000148C2EE8198>,\n",
       "       <matplotlib.axes._subplots.AxesSubplot object at 0x00000148C2F1BD30>],\n",
       "      dtype=object)"
      ]
     },
     "execution_count": 26,
     "metadata": {},
     "output_type": "execute_result"
    },
    {
     "data": {
      "image/png": "[encoded data removed]",
      "text/plain": [
       "<Figure size 864x576 with 1 Axes>"
      ]
     },
     "metadata": {
      "needs_background": "light"
     },
     "output_type": "display_data"
    },
    {
     "data": {
      "image/png": "[encoded data removed]",
      "text/plain": [
       "<Figure size 576x576 with 2 Axes>"
      ]
     },
     "metadata": {
      "needs_background": "light"
     },
     "output_type": "display_data"
    }
   ],
   "source": [
    "# Plot the first 20 predictions vs the true values\n",
    "Results[:20].plot(title='The first 20 predictions vs The true values', figsize=(12, 8))\n",
    "Results[:20].plot(subplots=True, figsize=(8, 8), title='The first 20 predictions vs The true values')"
   ]
  },
  {
   "cell_type": "markdown",
   "metadata": {},
   "source": [
    "# Out-of-Sample Performance\n",
    "\n",
    "Evaluate the model using \"out-of-sample\" data (X_test and y_test)"
   ]
  },
  {
   "cell_type": "code",
   "execution_count": 27,
   "metadata": {},
   "outputs": [
    {
     "name": "stdout",
     "output_type": "stream",
     "text": [
      "Out-of-Sample Root Mean Squared Error (RMSE): 2.2342129481780177\n"
     ]
    }
   ],
   "source": [
    "from sklearn.metrics import mean_squared_error\n",
    "# Calculate the mean_squared_error (MSE) on actual versus predicted test \"y\" \n",
    "mse = mean_squared_error(\n",
    "    Results[\"Return\"],\n",
    "    Results[\"Predicted Return\"]\n",
    ")\n",
    "\n",
    "# Using that mean-squared-error, calculate the root-mean-squared error (RMSE):\n",
    "rmse = np.sqrt(mse)\n",
    "print(f\"Out-of-Sample Root Mean Squared Error (RMSE): {rmse}\")"
   ]
  },
  {
   "cell_type": "markdown",
   "metadata": {},
   "source": [
    "# In-Sample Performance\n",
    "\n",
    "Evaluate the model using in-sample data (X_train and y_train)"
   ]
  },
  {
   "cell_type": "code",
   "execution_count": 28,
   "metadata": {},
   "outputs": [
    {
     "name": "stdout",
     "output_type": "stream",
     "text": [
      "In-sample Root Mean Squared Error (RMSE): 1.8294587896366694\n"
     ]
    }
   ],
   "source": [
    "# Construct a dataframe using just the \"y\" training data:\n",
    "in_sample_results = y_train.to_frame()\n",
    "\n",
    "# Add a column of \"in-sample\" predictions to that dataframe:  \n",
    "in_sample_results[\"In-sample Predictions\"] = model.predict(X_train)\n",
    "\n",
    "# Calculate in-sample mean_squared_error (for comparison to out-of-sample)\n",
    "in_sample_mse = mean_squared_error(\n",
    "    in_sample_results[\"Return\"],\n",
    "    in_sample_results[\"In-sample Predictions\"]\n",
    ")\n",
    "\n",
    "# Calculate in-sample root mean_squared_error (for comparison to out-of-sample)\n",
    "in_sample_rmse = np.sqrt(in_sample_mse)\n",
    "print(f\"In-sample Root Mean Squared Error (RMSE): {in_sample_rmse}\")"
   ]
  },
  {
   "cell_type": "markdown",
   "metadata": {},
   "source": [
    "# Conclusions"
   ]
  },
  {
   "cell_type": "markdown",
   "metadata": {},
   "source": [
    "YOUR CONCLUSIONS HERE!"
   ]
  },
  {
   "cell_type": "markdown",
   "metadata": {},
   "source": [
    "### lower RMSE is the the sign of fitness of our model, that is why this model perform better with in-Sample data utilization! "
   ]
  },
  {
   "cell_type": "code",
   "execution_count": null,
   "metadata": {},
   "outputs": [],
   "source": []
  },
  {
   "cell_type": "code",
   "execution_count": null,
   "metadata": {},
   "outputs": [],
   "source": []
  },
  {
   "cell_type": "code",
   "execution_count": null,
   "metadata": {},
   "outputs": [],
   "source": []
  },
  {
   "cell_type": "code",
   "execution_count": null,
   "metadata": {},
   "outputs": [],
   "source": []
  }
 ],
 "metadata": {
  "file_extension": ".py",
  "kernelspec": {
   "display_name": "Python 3",
   "language": "python",
   "name": "python3"
  },
  "language_info": {
   "codemirror_mode": {
    "name": "ipython",
    "version": 3
   },
   "file_extension": ".py",
   "mimetype": "text/x-python",
   "name": "python",
   "nbconvert_exporter": "python",
   "pygments_lexer": "ipython3",
   "version": "3.7.3"
  },
  "mimetype": "text/x-python",
  "name": "python",
  "npconvert_exporter": "python",
  "pygments_lexer": "ipython3",
  "version": 3
 },
 "nbformat": 4,
 "nbformat_minor": 4
}
