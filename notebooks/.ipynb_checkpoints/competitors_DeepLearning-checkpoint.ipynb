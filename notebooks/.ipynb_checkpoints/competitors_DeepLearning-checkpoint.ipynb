{
 "cells": [
  {
   "cell_type": "code",
   "execution_count": 2,
   "metadata": {},
   "outputs": [
    {
     "name": "stderr",
     "output_type": "stream",
     "text": [
      "Using TensorFlow backend.\n"
     ]
    }
   ],
   "source": [
    "\n",
    "import pandas as pd\n",
    "import os\n",
    "from sklearn.model_selection import train_test_split\n",
    "from sklearn.linear_model import LinearRegression\n",
    "import matplotlib.pyplot as plt"
   ]
  },
  {
   "cell_type": "code",
   "execution_count": 5,
   "metadata": {},
   "outputs": [],
   "source": [
    "intel_df = pd.read_csv('../data/deep_learning_data/INTC.csv')\n",
    "applied_materials_df = pd.read_csv('../data/deep_learning_data/AMAT.csv')\n",
    "taiwan_semiconductor_df = pd.read_csv('../data/deep_learning_data/TSM.csv')\n",
    "dell_df = pd.read_csv('../data/deep_learning_data/DELL.csv')\n",
    "hp_df = pd.read_csv('../data/deep_learning_data/HPQ.csv')\n",
    "lenovo_df = pd.read_csv('../data/deep_learning_data/LNVGF.csv')\n",
    "arrow_electronics_df = pd.read_csv('../data/deep_learning_data/ARW.csv')\n",
    "avnet_df = pd.read_csv('../data/deep_learning_data/AVT.csv')\n",
    "synnex_corp_df = pd.read_csv('../data/deep_learning_data/SNX.csv')\n",
    "advanced_micro_divices_df = pd.read_csv('../data/deep_learning_data/AMD.csv')\n",
    "nvidia_df = pd.read_csv('../data/deep_learning_data/NVDA.csv')\n",
    "qualcomn_df = pd.read_csv('../data/deep_learning_data/QCOM.csv')\n",
    "broadcom_df = pd.read_csv('../data/deep_learning_data/AVGO.csv')\n",
    "micron_df = pd.read_csv('../data/deep_learning_data/MU.csv')\n",
    "texas_inst__df = pd.read_csv('../data/deep_learning_data/TXN.csv')\n",
    "sk_hynix_df = pd.read_csv('../data/deep_learning_data/000660.KS.csv')\n",
    "\n",
    "\n",
    "intel_df.set_index('Date',inplace=True)\n",
    "applied_materials_df.set_index('Date',inplace=True)\n",
    "taiwan_semiconductor_df.set_index('Date',inplace=True)\n",
    "dell_df.set_index('Date',inplace=True)\n",
    "hp_df.set_index('Date',inplace=True)\n",
    "lenovo_df.set_index('Date',inplace=True)\n",
    "arrow_electronics_df.set_index('Date',inplace=True)\n",
    "avnet_df.set_index('Date',inplace=True)\n",
    "synnex_corp_df.set_index('Date',inplace=True)\n",
    "advanced_micro_divices_df.set_index('Date',inplace=True)\n",
    "nvidia_df.set_index('Date',inplace=True)\n",
    "qualcomn_df.set_index('Date',inplace=True)\n",
    "broadcom_df.set_index('Date',inplace=True)\n",
    "micron_df.set_index('Date',inplace=True)\n",
    "texas_inst__df.set_index('Date',inplace=True)\n",
    "sk_hynix_df.set_index('Date',inplace=True)\n",
    "\n",
    "\n",
    "\n",
    "intel_df = intel_df[['Close']]\n",
    "applied_materials_df = applied_materials_df[['Close']]\n",
    "taiwan_semiconductor_df = taiwan_semiconductor_df[['Close']]\n",
    "dell_df = dell_df[['Close']]\n",
    "hp_df = hp_df[['Close']]\n",
    "lenovo_df = lenovo_df[['Close']]\n",
    "arrow_electronics_df = arrow_electronics_df[['Close']]\n",
    "avnet_df = avnet_df[['Close']]\n",
    "synnex_corp_df = synnex_corp_df[['Close']]\n",
    "advanced_micro_divices_df = advanced_micro_divices_df[['Close']]\n",
    "nvidia_df = nvidia_df[['Close']]\n",
    "qualcomn_df = qualcomn_df[['Close']]\n",
    "broadcom_df = broadcom_df[['Close']]\n",
    "micron_df = micron_df[['Close']]\n",
    "texas_inst__df = texas_inst__df[['Close']]\n",
    "sk_hynix_df = sk_hynix_df[['Close']]\n",
    "\n",
    "intel_df.rename(columns={'Close': 'intel'},inplace=True)\n",
    "applied_materials_df.rename(columns={'Close': 'applied_materials'},inplace=True)\n",
    "taiwan_semiconductor_df.rename(columns={'Close': 'taiwan_semiconductor'},inplace=True)\n",
    "dell_df.rename(columns={'Close': 'dell'},inplace=True)\n",
    "hp_df.rename(columns={'Close': 'hp'},inplace=True)\n",
    "lenovo_df.rename(columns={'Close': 'lenovo'},inplace=True)\n",
    "arrow_electronics_df.rename(columns={'Close': 'arrow_electronics'},inplace=True)\n",
    "avnet_df.rename(columns={'Close': 'avnet'},inplace=True)\n",
    "synnex_corp_df.rename(columns={'Close': 'synnex_corp'},inplace=True)\n",
    "advanced_micro_divices_df.rename(columns={'Close': 'advanced_micro_divices'},inplace=True)\n",
    "nvidia_df.rename(columns={'Close': 'nvidia'},inplace=True)\n",
    "qualcomn_df.rename(columns={'Close': 'qualcomn'},inplace=True)\n",
    "broadcom_df.rename(columns={'Close': 'broadcom'},inplace=True)\n",
    "micron_df.rename(columns={'Close': 'micron'},inplace=True)\n",
    "texas_inst__df.rename(columns={'Close': 'texas_inst'},inplace=True)\n",
    "sk_hynix_df.rename(columns={'Close': 'sk_hynix'},inplace=True)"
   ]
  },
  {
   "cell_type": "code",
   "execution_count": 16,
   "metadata": {},
   "outputs": [],
   "source": [
    "supply_chain = pd.concat([applied_materials_df, taiwan_semiconductor_df, dell_df, hp_df, lenovo_df, arrow_electronics_df, avnet_df,synnex_corp_df], axis=1, join='inner')\n",
    "competitors = pd.concat([texas_inst__df,micron_df,broadcom_df,advanced_micro_divices_df, nvidia_df, qualcomn_df], axis=1, join='inner')\n",
    "target = intel_df"
   ]
  },
  {
   "cell_type": "code",
   "execution_count": 17,
   "metadata": {},
   "outputs": [
    {
     "data": {
      "text/html": [
       "<div>\n",
       "<style scoped>\n",
       "    .dataframe tbody tr th:only-of-type {\n",
       "        vertical-align: middle;\n",
       "    }\n",
       "\n",
       "    .dataframe tbody tr th {\n",
       "        vertical-align: top;\n",
       "    }\n",
       "\n",
       "    .dataframe thead th {\n",
       "        text-align: right;\n",
       "    }\n",
       "</style>\n",
       "<table border=\"1\" class=\"dataframe\">\n",
       "  <thead>\n",
       "    <tr style=\"text-align: right;\">\n",
       "      <th></th>\n",
       "      <th>broadcom</th>\n",
       "    </tr>\n",
       "    <tr>\n",
       "      <th>Date</th>\n",
       "      <th></th>\n",
       "    </tr>\n",
       "  </thead>\n",
       "  <tbody>\n",
       "    <tr>\n",
       "      <td>2016-08-17</td>\n",
       "      <td>173.029999</td>\n",
       "    </tr>\n",
       "    <tr>\n",
       "      <td>2016-08-18</td>\n",
       "      <td>173.929993</td>\n",
       "    </tr>\n",
       "    <tr>\n",
       "      <td>2016-08-19</td>\n",
       "      <td>174.929993</td>\n",
       "    </tr>\n",
       "    <tr>\n",
       "      <td>2016-08-22</td>\n",
       "      <td>175.929993</td>\n",
       "    </tr>\n",
       "    <tr>\n",
       "      <td>2016-08-23</td>\n",
       "      <td>177.339996</td>\n",
       "    </tr>\n",
       "    <tr>\n",
       "      <td>...</td>\n",
       "      <td>...</td>\n",
       "    </tr>\n",
       "    <tr>\n",
       "      <td>2019-12-12</td>\n",
       "      <td>327.799988</td>\n",
       "    </tr>\n",
       "    <tr>\n",
       "      <td>2019-12-13</td>\n",
       "      <td>315.420013</td>\n",
       "    </tr>\n",
       "    <tr>\n",
       "      <td>2019-12-16</td>\n",
       "      <td>323.130005</td>\n",
       "    </tr>\n",
       "    <tr>\n",
       "      <td>2019-12-17</td>\n",
       "      <td>323.799988</td>\n",
       "    </tr>\n",
       "    <tr>\n",
       "      <td>2019-12-18</td>\n",
       "      <td>327.440002</td>\n",
       "    </tr>\n",
       "  </tbody>\n",
       "</table>\n",
       "<p>841 rows × 1 columns</p>\n",
       "</div>"
      ],
      "text/plain": [
       "              broadcom\n",
       "Date                  \n",
       "2016-08-17  173.029999\n",
       "2016-08-18  173.929993\n",
       "2016-08-19  174.929993\n",
       "2016-08-22  175.929993\n",
       "2016-08-23  177.339996\n",
       "...                ...\n",
       "2019-12-12  327.799988\n",
       "2019-12-13  315.420013\n",
       "2019-12-16  323.130005\n",
       "2019-12-17  323.799988\n",
       "2019-12-18  327.440002\n",
       "\n",
       "[841 rows x 1 columns]"
      ]
     },
     "execution_count": 17,
     "metadata": {},
     "output_type": "execute_result"
    }
   ],
   "source": [
    "broadcom_df"
   ]
  },
  {
   "cell_type": "code",
   "execution_count": 11,
   "metadata": {},
   "outputs": [
    {
     "data": {
      "text/html": [
       "<div>\n",
       "<style scoped>\n",
       "    .dataframe tbody tr th:only-of-type {\n",
       "        vertical-align: middle;\n",
       "    }\n",
       "\n",
       "    .dataframe tbody tr th {\n",
       "        vertical-align: top;\n",
       "    }\n",
       "\n",
       "    .dataframe thead th {\n",
       "        text-align: right;\n",
       "    }\n",
       "</style>\n",
       "<table border=\"1\" class=\"dataframe\">\n",
       "  <thead>\n",
       "    <tr style=\"text-align: right;\">\n",
       "      <th></th>\n",
       "      <th>intel</th>\n",
       "    </tr>\n",
       "    <tr>\n",
       "      <th>Date</th>\n",
       "      <th></th>\n",
       "    </tr>\n",
       "  </thead>\n",
       "  <tbody>\n",
       "    <tr>\n",
       "      <td>2016-08-17</td>\n",
       "      <td>35.020000</td>\n",
       "    </tr>\n",
       "    <tr>\n",
       "      <td>2016-08-18</td>\n",
       "      <td>34.970001</td>\n",
       "    </tr>\n",
       "    <tr>\n",
       "      <td>2016-08-19</td>\n",
       "      <td>35.240002</td>\n",
       "    </tr>\n",
       "    <tr>\n",
       "      <td>2016-08-22</td>\n",
       "      <td>35.360001</td>\n",
       "    </tr>\n",
       "    <tr>\n",
       "      <td>2016-08-23</td>\n",
       "      <td>35.400002</td>\n",
       "    </tr>\n",
       "    <tr>\n",
       "      <td>...</td>\n",
       "      <td>...</td>\n",
       "    </tr>\n",
       "    <tr>\n",
       "      <td>2019-12-12</td>\n",
       "      <td>57.549999</td>\n",
       "    </tr>\n",
       "    <tr>\n",
       "      <td>2019-12-13</td>\n",
       "      <td>57.790001</td>\n",
       "    </tr>\n",
       "    <tr>\n",
       "      <td>2019-12-16</td>\n",
       "      <td>57.700001</td>\n",
       "    </tr>\n",
       "    <tr>\n",
       "      <td>2019-12-17</td>\n",
       "      <td>57.299999</td>\n",
       "    </tr>\n",
       "    <tr>\n",
       "      <td>2019-12-18</td>\n",
       "      <td>57.169998</td>\n",
       "    </tr>\n",
       "  </tbody>\n",
       "</table>\n",
       "<p>841 rows × 1 columns</p>\n",
       "</div>"
      ],
      "text/plain": [
       "                intel\n",
       "Date                 \n",
       "2016-08-17  35.020000\n",
       "2016-08-18  34.970001\n",
       "2016-08-19  35.240002\n",
       "2016-08-22  35.360001\n",
       "2016-08-23  35.400002\n",
       "...               ...\n",
       "2019-12-12  57.549999\n",
       "2019-12-13  57.790001\n",
       "2019-12-16  57.700001\n",
       "2019-12-17  57.299999\n",
       "2019-12-18  57.169998\n",
       "\n",
       "[841 rows x 1 columns]"
      ]
     },
     "execution_count": 11,
     "metadata": {},
     "output_type": "execute_result"
    }
   ],
   "source": [
    "target"
   ]
  },
  {
   "cell_type": "code",
   "execution_count": 18,
   "metadata": {},
   "outputs": [],
   "source": [
    "#SUPPLY CHAIN ANALYSIS\n",
    "#data split\n",
    "\n",
    "train_data, test_data, train_targets, test_targets = train_test_split(competitors, target, test_size = 0.2, random_state = 1)"
   ]
  },
  {
   "cell_type": "code",
   "execution_count": 19,
   "metadata": {},
   "outputs": [
    {
     "data": {
      "text/plain": [
       "LinearRegression(copy_X=True, fit_intercept=True, n_jobs=None, normalize=True)"
      ]
     },
     "execution_count": 19,
     "metadata": {},
     "output_type": "execute_result"
    }
   ],
   "source": [
    "#train and fit linear regression model\n",
    "\n",
    "model_linear = LinearRegression(normalize=True)\n",
    "model_linear.fit(train_data,train_targets)"
   ]
  },
  {
   "cell_type": "code",
   "execution_count": 20,
   "metadata": {},
   "outputs": [],
   "source": [
    "#predict from linear regresion model\n",
    "y_predicted_linear = model_linear.predict(test_data)"
   ]
  },
  {
   "cell_type": "code",
   "execution_count": 21,
   "metadata": {},
   "outputs": [
    {
     "data": {
      "image/png": "[encoded data removed]",
      "text/plain": [
       "<Figure size 432x288 with 1 Axes>"
      ]
     },
     "metadata": {
      "needs_background": "light"
     },
     "output_type": "display_data"
    }
   ],
   "source": [
    "#plot real values vs predicted from linear model\n",
    "plt.scatter(test_targets,y_predicted_linear)\n",
    "plt.xlabel('Intel real price')\n",
    "plt.ylabel('Predicted linear regression price')\n",
    "plt.show()"
   ]
  },
  {
   "cell_type": "code",
   "execution_count": 22,
   "metadata": {},
   "outputs": [],
   "source": [
    "#normalize data for deep learning\n",
    "\n",
    "mean = train_data.mean(axis=0)\n",
    "train_data -= mean\n",
    "std = train_data.std(axis=0)\n",
    "train_data /= std\n",
    "\n",
    "test_data -= mean\n",
    "test_data /= std"
   ]
  },
  {
   "cell_type": "code",
   "execution_count": 23,
   "metadata": {},
   "outputs": [
    {
     "data": {
      "text/plain": [
       "(672, 6)"
      ]
     },
     "execution_count": 23,
     "metadata": {},
     "output_type": "execute_result"
    }
   ],
   "source": [
    "train_data.shape"
   ]
  },
  {
   "cell_type": "code",
   "execution_count": 24,
   "metadata": {},
   "outputs": [
    {
     "data": {
      "text/plain": [
       "(169, 6)"
      ]
     },
     "execution_count": 24,
     "metadata": {},
     "output_type": "execute_result"
    }
   ],
   "source": [
    "test_data.shape"
   ]
  },
  {
   "cell_type": "code",
   "execution_count": 25,
   "metadata": {},
   "outputs": [],
   "source": [
    "#turn dataframes into tensors\n",
    "\n",
    "train_data = train_data.to_numpy()\n",
    "test_data = test_data.to_numpy()\n",
    "train_targets = train_targets.to_numpy()"
   ]
  },
  {
   "cell_type": "code",
   "execution_count": 26,
   "metadata": {},
   "outputs": [],
   "source": [
    "features_tensor = supply_chain.to_numpy()\n",
    "target_tensor = target.to_numpy()"
   ]
  },
  {
   "cell_type": "code",
   "execution_count": 27,
   "metadata": {},
   "outputs": [],
   "source": [
    "#Define the Deep Learning model using the library Keras. \n",
    "\n",
    "from keras import models\n",
    "from keras import layers \n",
    "\n",
    "def build_model():\n",
    "    model_DeepLearning = models.Sequential()\n",
    "    model_DeepLearning.add(layers.Dense(16, activation = 'relu',input_shape=(train_data.shape[1],)))\n",
    "    model_DeepLearning.add(layers.Dense(2, activation = 'relu'))\n",
    "    model_DeepLearning.add(layers.Dense(1))\n",
    "    model_DeepLearning.compile(optimizer='rmsprop', loss='mse', metrics=['mae'])\n",
    "    return model_DeepLearning"
   ]
  },
  {
   "cell_type": "code",
   "execution_count": 28,
   "metadata": {},
   "outputs": [],
   "source": [
    "#K-fold validation: Running the number of epochs k number of times, and then calculating the average of the loss values obteained at each time pass between 1 and k.\n",
    "\n",
    "\n",
    "import numpy as np\n",
    "\n",
    "k=4\n",
    "num_val_samples = len(train_data) // k\n",
    "all_scores = []"
   ]
  },
  {
   "cell_type": "code",
   "execution_count": 29,
   "metadata": {},
   "outputs": [
    {
     "name": "stdout",
     "output_type": "stream",
     "text": [
      "processing fold# 0\n",
      "processing fold# 1\n",
      "processing fold# 2\n",
      "processing fold# 3\n"
     ]
    }
   ],
   "source": [
    "#Fit the model to the data first using a for loop for K-fold validation. Training the model on silent mode\n",
    "\n",
    "num_epochs = 500\n",
    "all_mae_histories = []\n",
    "for i in range(k):\n",
    "    print('processing fold#',i)\n",
    "    val_data = train_data[i * num_val_samples: (i+1) * num_val_samples]\n",
    "    val_targets = train_targets[i * num_val_samples: (i+1) * num_val_samples]\n",
    "    \n",
    "    partial_train_data = np.concatenate(\n",
    "        [train_data[:i * num_val_samples],\n",
    "         train_data[(i+1)*num_val_samples:]],\n",
    "        axis = 0)\n",
    "    \n",
    "    partial_train_targets = np.concatenate(\n",
    "        [train_targets[:i * num_val_samples],\n",
    "         train_targets[(i+1)*num_val_samples:]],\n",
    "        axis = 0)\n",
    "    \n",
    "    model_DeepLearning = build_model()\n",
    "    history = model_DeepLearning.fit(partial_train_data,partial_train_targets,\n",
    "                        validation_data=(val_data, val_targets),\n",
    "                        epochs=num_epochs,batch_size=1,verbose=0)\n",
    "    mae_history = history.history['val_mae']\n",
    "    all_mae_histories.append(mae_history)"
   ]
  },
  {
   "cell_type": "code",
   "execution_count": 17,
   "metadata": {},
   "outputs": [
    {
     "data": {
      "text/plain": [
       "5.699553377091885"
      ]
     },
     "execution_count": 17,
     "metadata": {},
     "output_type": "execute_result"
    }
   ],
   "source": [
    "#loss value\n",
    "\n",
    "np.mean(all_mae_histories)"
   ]
  },
  {
   "cell_type": "code",
   "execution_count": 18,
   "metadata": {},
   "outputs": [],
   "source": [
    "average_mae_history = [np.mean([x[i] for x in all_mae_histories]) for i in range(num_epochs)]"
   ]
  },
  {
   "cell_type": "code",
   "execution_count": 19,
   "metadata": {},
   "outputs": [
    {
     "data": {
      "image/png": "[encoded data removed]",
      "text/plain": [
       "<Figure size 432x288 with 1 Axes>"
      ]
     },
     "metadata": {
      "needs_background": "light"
     },
     "output_type": "display_data"
    }
   ],
   "source": [
    "import matplotlib.pyplot as plt\n",
    "\n",
    "plt.plot(range(1, len(average_mae_history)+1), average_mae_history)\n",
    "plt.xlabel('Epochs')\n",
    "plt.ylabel('Validation MAE')\n",
    "plt.show()"
   ]
  },
  {
   "cell_type": "code",
   "execution_count": 20,
   "metadata": {},
   "outputs": [
    {
     "data": {
      "image/png": "[encoded data removed]",
      "text/plain": [
       "<Figure size 432x288 with 1 Axes>"
      ]
     },
     "metadata": {
      "needs_background": "light"
     },
     "output_type": "display_data"
    }
   ],
   "source": [
    "def smooth_curve(points, factor=0.9):\n",
    "    smoothed_points = []\n",
    "    for point in points:\n",
    "        if smoothed_points:\n",
    "            previous = smoothed_points[-1]\n",
    "            smoothed_points.append(previous * factor + point * (1 - factor))\n",
    "        else:\n",
    "            smoothed_points.append(point)\n",
    "    return smoothed_points\n",
    "\n",
    "smooth_mae_history = smooth_curve(average_mae_history[10:])\n",
    "\n",
    "plt.plot(range(1, len(smooth_mae_history)+1),smooth_mae_history)\n",
    "plt.xlabel('Epochs')\n",
    "plt.ylabel('Validation MAE')\n",
    "plt.show()"
   ]
  },
  {
   "cell_type": "code",
   "execution_count": 21,
   "metadata": {},
   "outputs": [
    {
     "name": "stdout",
     "output_type": "stream",
     "text": [
      "dict_keys(['val_loss', 'val_mae', 'val_acc', 'loss', 'mae', 'acc'])\n"
     ]
    }
   ],
   "source": [
    "history_dict = history.history\n",
    "print(history_dict.keys())"
   ]
  },
  {
   "cell_type": "code",
   "execution_count": 22,
   "metadata": {},
   "outputs": [
    {
     "name": "stdout",
     "output_type": "stream",
     "text": [
      "dict_keys(['val_loss', 'val_mae', 'val_acc', 'loss', 'mae', 'acc'])\n"
     ]
    },
    {
     "data": {
      "image/png": "[encoded data removed]",
      "text/plain": [
       "<Figure size 432x288 with 1 Axes>"
      ]
     },
     "metadata": {
      "needs_background": "light"
     },
     "output_type": "display_data"
    }
   ],
   "source": [
    "print(history.history.keys())\n",
    "# \"Loss\"\n",
    "plt.plot(history.history['loss'])\n",
    "plt.plot(history.history['val_loss'])\n",
    "plt.title('model loss')\n",
    "plt.ylabel('loss')\n",
    "plt.xlabel('epoch')\n",
    "plt.yscale('log')\n",
    "plt.legend(['train', 'validation'], loc='upper left')\n",
    "plt.show()"
   ]
  },
  {
   "cell_type": "code",
   "execution_count": 23,
   "metadata": {},
   "outputs": [],
   "source": [
    "mean = features_tensor.mean(axis=0)\n",
    "features_tensor -= mean\n",
    "std = features_tensor.std(axis=0)\n",
    "features_tensor /= std"
   ]
  },
  {
   "cell_type": "code",
   "execution_count": 24,
   "metadata": {},
   "outputs": [],
   "source": [
    "y_predict_DeepLearning = model_DeepLearning.predict(test_data)"
   ]
  },
  {
   "cell_type": "code",
   "execution_count": 25,
   "metadata": {},
   "outputs": [
    {
     "data": {
      "text/plain": [
       "(169, 1)"
      ]
     },
     "execution_count": 25,
     "metadata": {},
     "output_type": "execute_result"
    }
   ],
   "source": [
    "y_predict_DeepLearning.shape"
   ]
  },
  {
   "cell_type": "code",
   "execution_count": 26,
   "metadata": {},
   "outputs": [],
   "source": [
    "predicted_values_DeepLearning_df = pd.DataFrame(y_predict_DeepLearning)\n",
    "predicted_values_DeepLearning_df.rename(columns={0: 'Predicted Deep Learning'},inplace=True)"
   ]
  },
  {
   "cell_type": "code",
   "execution_count": 27,
   "metadata": {},
   "outputs": [
    {
     "data": {
      "text/html": [
       "<div>\n",
       "<style scoped>\n",
       "    .dataframe tbody tr th:only-of-type {\n",
       "        vertical-align: middle;\n",
       "    }\n",
       "\n",
       "    .dataframe tbody tr th {\n",
       "        vertical-align: top;\n",
       "    }\n",
       "\n",
       "    .dataframe thead th {\n",
       "        text-align: right;\n",
       "    }\n",
       "</style>\n",
       "<table border=\"1\" class=\"dataframe\">\n",
       "  <thead>\n",
       "    <tr style=\"text-align: right;\">\n",
       "      <th></th>\n",
       "      <th>Predicted Deep Learning</th>\n",
       "    </tr>\n",
       "  </thead>\n",
       "  <tbody>\n",
       "    <tr>\n",
       "      <td>0</td>\n",
       "      <td>52.420475</td>\n",
       "    </tr>\n",
       "    <tr>\n",
       "      <td>1</td>\n",
       "      <td>34.845215</td>\n",
       "    </tr>\n",
       "    <tr>\n",
       "      <td>2</td>\n",
       "      <td>53.479622</td>\n",
       "    </tr>\n",
       "    <tr>\n",
       "      <td>3</td>\n",
       "      <td>34.534195</td>\n",
       "    </tr>\n",
       "    <tr>\n",
       "      <td>4</td>\n",
       "      <td>35.573597</td>\n",
       "    </tr>\n",
       "    <tr>\n",
       "      <td>...</td>\n",
       "      <td>...</td>\n",
       "    </tr>\n",
       "    <tr>\n",
       "      <td>164</td>\n",
       "      <td>52.575493</td>\n",
       "    </tr>\n",
       "    <tr>\n",
       "      <td>165</td>\n",
       "      <td>57.151672</td>\n",
       "    </tr>\n",
       "    <tr>\n",
       "      <td>166</td>\n",
       "      <td>45.984035</td>\n",
       "    </tr>\n",
       "    <tr>\n",
       "      <td>167</td>\n",
       "      <td>52.081413</td>\n",
       "    </tr>\n",
       "    <tr>\n",
       "      <td>168</td>\n",
       "      <td>35.769623</td>\n",
       "    </tr>\n",
       "  </tbody>\n",
       "</table>\n",
       "<p>169 rows × 1 columns</p>\n",
       "</div>"
      ],
      "text/plain": [
       "     Predicted Deep Learning\n",
       "0                  52.420475\n",
       "1                  34.845215\n",
       "2                  53.479622\n",
       "3                  34.534195\n",
       "4                  35.573597\n",
       "..                       ...\n",
       "164                52.575493\n",
       "165                57.151672\n",
       "166                45.984035\n",
       "167                52.081413\n",
       "168                35.769623\n",
       "\n",
       "[169 rows x 1 columns]"
      ]
     },
     "execution_count": 27,
     "metadata": {},
     "output_type": "execute_result"
    }
   ],
   "source": [
    "predicted_values_DeepLearning_df"
   ]
  },
  {
   "cell_type": "code",
   "execution_count": 28,
   "metadata": {},
   "outputs": [],
   "source": [
    "test_targets.reset_index(inplace=True)"
   ]
  },
  {
   "cell_type": "code",
   "execution_count": 29,
   "metadata": {},
   "outputs": [
    {
     "data": {
      "text/html": [
       "<div>\n",
       "<style scoped>\n",
       "    .dataframe tbody tr th:only-of-type {\n",
       "        vertical-align: middle;\n",
       "    }\n",
       "\n",
       "    .dataframe tbody tr th {\n",
       "        vertical-align: top;\n",
       "    }\n",
       "\n",
       "    .dataframe thead th {\n",
       "        text-align: right;\n",
       "    }\n",
       "</style>\n",
       "<table border=\"1\" class=\"dataframe\">\n",
       "  <thead>\n",
       "    <tr style=\"text-align: right;\">\n",
       "      <th></th>\n",
       "      <th>Date</th>\n",
       "      <th>intel</th>\n",
       "    </tr>\n",
       "  </thead>\n",
       "  <tbody>\n",
       "    <tr>\n",
       "      <td>0</td>\n",
       "      <td>2018-07-19</td>\n",
       "      <td>51.980000</td>\n",
       "    </tr>\n",
       "    <tr>\n",
       "      <td>1</td>\n",
       "      <td>2017-05-16</td>\n",
       "      <td>35.820000</td>\n",
       "    </tr>\n",
       "    <tr>\n",
       "      <td>2</td>\n",
       "      <td>2019-03-29</td>\n",
       "      <td>53.700001</td>\n",
       "    </tr>\n",
       "    <tr>\n",
       "      <td>3</td>\n",
       "      <td>2017-01-26</td>\n",
       "      <td>37.560001</td>\n",
       "    </tr>\n",
       "    <tr>\n",
       "      <td>4</td>\n",
       "      <td>2017-09-06</td>\n",
       "      <td>35.759998</td>\n",
       "    </tr>\n",
       "    <tr>\n",
       "      <td>...</td>\n",
       "      <td>...</td>\n",
       "      <td>...</td>\n",
       "    </tr>\n",
       "    <tr>\n",
       "      <td>164</td>\n",
       "      <td>2018-05-24</td>\n",
       "      <td>54.750000</td>\n",
       "    </tr>\n",
       "    <tr>\n",
       "      <td>165</td>\n",
       "      <td>2019-11-05</td>\n",
       "      <td>57.549999</td>\n",
       "    </tr>\n",
       "    <tr>\n",
       "      <td>166</td>\n",
       "      <td>2018-10-10</td>\n",
       "      <td>44.799999</td>\n",
       "    </tr>\n",
       "    <tr>\n",
       "      <td>167</td>\n",
       "      <td>2019-04-25</td>\n",
       "      <td>57.610001</td>\n",
       "    </tr>\n",
       "    <tr>\n",
       "      <td>168</td>\n",
       "      <td>2017-03-02</td>\n",
       "      <td>35.910000</td>\n",
       "    </tr>\n",
       "  </tbody>\n",
       "</table>\n",
       "<p>169 rows × 2 columns</p>\n",
       "</div>"
      ],
      "text/plain": [
       "           Date      intel\n",
       "0    2018-07-19  51.980000\n",
       "1    2017-05-16  35.820000\n",
       "2    2019-03-29  53.700001\n",
       "3    2017-01-26  37.560001\n",
       "4    2017-09-06  35.759998\n",
       "..          ...        ...\n",
       "164  2018-05-24  54.750000\n",
       "165  2019-11-05  57.549999\n",
       "166  2018-10-10  44.799999\n",
       "167  2019-04-25  57.610001\n",
       "168  2017-03-02  35.910000\n",
       "\n",
       "[169 rows x 2 columns]"
      ]
     },
     "execution_count": 29,
     "metadata": {},
     "output_type": "execute_result"
    }
   ],
   "source": [
    "test_targets"
   ]
  },
  {
   "cell_type": "code",
   "execution_count": 30,
   "metadata": {},
   "outputs": [],
   "source": [
    "predicted_values_linear_df = pd.DataFrame(y_predicted_linear)\n",
    "predicted_values_linear_df.rename(columns={0: 'Predicted Linear Regression'},inplace=True)"
   ]
  },
  {
   "cell_type": "code",
   "execution_count": 31,
   "metadata": {},
   "outputs": [],
   "source": [
    "real_vs_predicted_df = pd.concat([test_targets, predicted_values_DeepLearning_df,predicted_values_linear_df], axis=1, join='inner')"
   ]
  },
  {
   "cell_type": "code",
   "execution_count": 32,
   "metadata": {},
   "outputs": [
    {
     "data": {
      "text/html": [
       "<div>\n",
       "<style scoped>\n",
       "    .dataframe tbody tr th:only-of-type {\n",
       "        vertical-align: middle;\n",
       "    }\n",
       "\n",
       "    .dataframe tbody tr th {\n",
       "        vertical-align: top;\n",
       "    }\n",
       "\n",
       "    .dataframe thead th {\n",
       "        text-align: right;\n",
       "    }\n",
       "</style>\n",
       "<table border=\"1\" class=\"dataframe\">\n",
       "  <thead>\n",
       "    <tr style=\"text-align: right;\">\n",
       "      <th></th>\n",
       "      <th>Date</th>\n",
       "      <th>intel</th>\n",
       "      <th>Predicted Deep Learning</th>\n",
       "      <th>Predicted Linear Regression</th>\n",
       "    </tr>\n",
       "  </thead>\n",
       "  <tbody>\n",
       "    <tr>\n",
       "      <td>0</td>\n",
       "      <td>2018-07-19</td>\n",
       "      <td>51.980000</td>\n",
       "      <td>52.420475</td>\n",
       "      <td>49.463901</td>\n",
       "    </tr>\n",
       "    <tr>\n",
       "      <td>1</td>\n",
       "      <td>2017-05-16</td>\n",
       "      <td>35.820000</td>\n",
       "      <td>34.845215</td>\n",
       "      <td>40.405186</td>\n",
       "    </tr>\n",
       "    <tr>\n",
       "      <td>2</td>\n",
       "      <td>2019-03-29</td>\n",
       "      <td>53.700001</td>\n",
       "      <td>53.479622</td>\n",
       "      <td>47.871146</td>\n",
       "    </tr>\n",
       "    <tr>\n",
       "      <td>3</td>\n",
       "      <td>2017-01-26</td>\n",
       "      <td>37.560001</td>\n",
       "      <td>34.534195</td>\n",
       "      <td>37.793450</td>\n",
       "    </tr>\n",
       "    <tr>\n",
       "      <td>4</td>\n",
       "      <td>2017-09-06</td>\n",
       "      <td>35.759998</td>\n",
       "      <td>35.573597</td>\n",
       "      <td>42.332463</td>\n",
       "    </tr>\n",
       "    <tr>\n",
       "      <td>...</td>\n",
       "      <td>...</td>\n",
       "      <td>...</td>\n",
       "      <td>...</td>\n",
       "      <td>...</td>\n",
       "    </tr>\n",
       "    <tr>\n",
       "      <td>164</td>\n",
       "      <td>2018-05-24</td>\n",
       "      <td>54.750000</td>\n",
       "      <td>52.575493</td>\n",
       "      <td>47.977443</td>\n",
       "    </tr>\n",
       "    <tr>\n",
       "      <td>165</td>\n",
       "      <td>2019-11-05</td>\n",
       "      <td>57.549999</td>\n",
       "      <td>57.151672</td>\n",
       "      <td>53.853301</td>\n",
       "    </tr>\n",
       "    <tr>\n",
       "      <td>166</td>\n",
       "      <td>2018-10-10</td>\n",
       "      <td>44.799999</td>\n",
       "      <td>45.984035</td>\n",
       "      <td>52.093135</td>\n",
       "    </tr>\n",
       "    <tr>\n",
       "      <td>167</td>\n",
       "      <td>2019-04-25</td>\n",
       "      <td>57.610001</td>\n",
       "      <td>52.081413</td>\n",
       "      <td>49.268825</td>\n",
       "    </tr>\n",
       "    <tr>\n",
       "      <td>168</td>\n",
       "      <td>2017-03-02</td>\n",
       "      <td>35.910000</td>\n",
       "      <td>35.769623</td>\n",
       "      <td>38.329799</td>\n",
       "    </tr>\n",
       "  </tbody>\n",
       "</table>\n",
       "<p>169 rows × 4 columns</p>\n",
       "</div>"
      ],
      "text/plain": [
       "           Date      intel  Predicted Deep Learning  \\\n",
       "0    2018-07-19  51.980000                52.420475   \n",
       "1    2017-05-16  35.820000                34.845215   \n",
       "2    2019-03-29  53.700001                53.479622   \n",
       "3    2017-01-26  37.560001                34.534195   \n",
       "4    2017-09-06  35.759998                35.573597   \n",
       "..          ...        ...                      ...   \n",
       "164  2018-05-24  54.750000                52.575493   \n",
       "165  2019-11-05  57.549999                57.151672   \n",
       "166  2018-10-10  44.799999                45.984035   \n",
       "167  2019-04-25  57.610001                52.081413   \n",
       "168  2017-03-02  35.910000                35.769623   \n",
       "\n",
       "     Predicted Linear Regression  \n",
       "0                      49.463901  \n",
       "1                      40.405186  \n",
       "2                      47.871146  \n",
       "3                      37.793450  \n",
       "4                      42.332463  \n",
       "..                           ...  \n",
       "164                    47.977443  \n",
       "165                    53.853301  \n",
       "166                    52.093135  \n",
       "167                    49.268825  \n",
       "168                    38.329799  \n",
       "\n",
       "[169 rows x 4 columns]"
      ]
     },
     "execution_count": 32,
     "metadata": {},
     "output_type": "execute_result"
    }
   ],
   "source": [
    "real_vs_predicted_df"
   ]
  },
  {
   "cell_type": "code",
   "execution_count": 33,
   "metadata": {},
   "outputs": [],
   "source": [
    "correl_complete = real_vs_predicted_df.corr().abs()"
   ]
  },
  {
   "cell_type": "code",
   "execution_count": 34,
   "metadata": {},
   "outputs": [
    {
     "data": {
      "text/html": [
       "<div>\n",
       "<style scoped>\n",
       "    .dataframe tbody tr th:only-of-type {\n",
       "        vertical-align: middle;\n",
       "    }\n",
       "\n",
       "    .dataframe tbody tr th {\n",
       "        vertical-align: top;\n",
       "    }\n",
       "\n",
       "    .dataframe thead th {\n",
       "        text-align: right;\n",
       "    }\n",
       "</style>\n",
       "<table border=\"1\" class=\"dataframe\">\n",
       "  <thead>\n",
       "    <tr style=\"text-align: right;\">\n",
       "      <th></th>\n",
       "      <th>intel</th>\n",
       "      <th>Predicted Deep Learning</th>\n",
       "      <th>Predicted Linear Regression</th>\n",
       "    </tr>\n",
       "  </thead>\n",
       "  <tbody>\n",
       "    <tr>\n",
       "      <td>intel</td>\n",
       "      <td>1.000000</td>\n",
       "      <td>0.960278</td>\n",
       "      <td>0.827704</td>\n",
       "    </tr>\n",
       "    <tr>\n",
       "      <td>Predicted Deep Learning</td>\n",
       "      <td>0.960278</td>\n",
       "      <td>1.000000</td>\n",
       "      <td>0.860044</td>\n",
       "    </tr>\n",
       "    <tr>\n",
       "      <td>Predicted Linear Regression</td>\n",
       "      <td>0.827704</td>\n",
       "      <td>0.860044</td>\n",
       "      <td>1.000000</td>\n",
       "    </tr>\n",
       "  </tbody>\n",
       "</table>\n",
       "</div>"
      ],
      "text/plain": [
       "                                intel  Predicted Deep Learning  \\\n",
       "intel                        1.000000                 0.960278   \n",
       "Predicted Deep Learning      0.960278                 1.000000   \n",
       "Predicted Linear Regression  0.827704                 0.860044   \n",
       "\n",
       "                             Predicted Linear Regression  \n",
       "intel                                           0.827704  \n",
       "Predicted Deep Learning                         0.860044  \n",
       "Predicted Linear Regression                     1.000000  "
      ]
     },
     "execution_count": 34,
     "metadata": {},
     "output_type": "execute_result"
    }
   ],
   "source": [
    "correl_complete"
   ]
  },
  {
   "cell_type": "code",
   "execution_count": 35,
   "metadata": {},
   "outputs": [
    {
     "data": {
      "image/png": "[encoded data removed]",
      "text/plain": [
       "<Figure size 432x288 with 1 Axes>"
      ]
     },
     "metadata": {
      "needs_background": "light"
     },
     "output_type": "display_data"
    }
   ],
   "source": [
    "import matplotlib.pyplot as plt\n",
    "plt.scatter(real_vs_predicted_df['intel'], real_vs_predicted_df['Predicted Deep Learning'])\n",
    "plt.scatter(real_vs_predicted_df['intel'], real_vs_predicted_df['Predicted Linear Regression'])\n",
    "plt.xlabel('intel Closing Price')\n",
    "plt.ylabel('Predicted Price')\n",
    "plt.legend(['Predicted Deep Learning', 'Predicted Linear Regression'], loc='upper left')\n",
    "plt.show()"
   ]
  },
  {
   "cell_type": "code",
   "execution_count": null,
   "metadata": {},
   "outputs": [],
   "source": []
  },
  {
   "cell_type": "code",
   "execution_count": null,
   "metadata": {},
   "outputs": [],
   "source": []
  },
  {
   "cell_type": "code",
   "execution_count": null,
   "metadata": {},
   "outputs": [],
   "source": []
  },
  {
   "cell_type": "code",
   "execution_count": null,
   "metadata": {},
   "outputs": [],
   "source": []
  },
  {
   "cell_type": "code",
   "execution_count": null,
   "metadata": {},
   "outputs": [],
   "source": []
  },
  {
   "cell_type": "code",
   "execution_count": null,
   "metadata": {},
   "outputs": [],
   "source": []
  },
  {
   "cell_type": "code",
   "execution_count": null,
   "metadata": {},
   "outputs": [],
   "source": []
  },
  {
   "cell_type": "code",
   "execution_count": null,
   "metadata": {},
   "outputs": [],
   "source": []
  },
  {
   "cell_type": "code",
   "execution_count": null,
   "metadata": {},
   "outputs": [],
   "source": []
  },
  {
   "cell_type": "code",
   "execution_count": null,
   "metadata": {},
   "outputs": [],
   "source": []
  },
  {
   "cell_type": "code",
   "execution_count": null,
   "metadata": {},
   "outputs": [],
   "source": []
  },
  {
   "cell_type": "code",
   "execution_count": null,
   "metadata": {},
   "outputs": [],
   "source": []
  },
  {
   "cell_type": "code",
   "execution_count": null,
   "metadata": {},
   "outputs": [],
   "source": []
  },
  {
   "cell_type": "code",
   "execution_count": null,
   "metadata": {},
   "outputs": [],
   "source": []
  },
  {
   "cell_type": "code",
   "execution_count": null,
   "metadata": {},
   "outputs": [],
   "source": []
  },
  {
   "cell_type": "code",
   "execution_count": null,
   "metadata": {},
   "outputs": [],
   "source": []
  },
  {
   "cell_type": "code",
   "execution_count": null,
   "metadata": {},
   "outputs": [],
   "source": []
  },
  {
   "cell_type": "code",
   "execution_count": null,
   "metadata": {},
   "outputs": [],
   "source": []
  },
  {
   "cell_type": "code",
   "execution_count": null,
   "metadata": {},
   "outputs": [],
   "source": []
  },
  {
   "cell_type": "code",
   "execution_count": null,
   "metadata": {},
   "outputs": [],
   "source": []
  },
  {
   "cell_type": "code",
   "execution_count": null,
   "metadata": {},
   "outputs": [],
   "source": []
  },
  {
   "cell_type": "code",
   "execution_count": null,
   "metadata": {},
   "outputs": [],
   "source": []
  },
  {
   "cell_type": "code",
   "execution_count": null,
   "metadata": {},
   "outputs": [],
   "source": []
  },
  {
   "cell_type": "code",
   "execution_count": null,
   "metadata": {},
   "outputs": [],
   "source": []
  },
  {
   "cell_type": "code",
   "execution_count": null,
   "metadata": {},
   "outputs": [],
   "source": [
    "\n"
   ]
  },
  {
   "cell_type": "code",
   "execution_count": null,
   "metadata": {},
   "outputs": [],
   "source": []
  },
  {
   "cell_type": "code",
   "execution_count": null,
   "metadata": {},
   "outputs": [],
   "source": []
  },
  {
   "cell_type": "code",
   "execution_count": null,
   "metadata": {},
   "outputs": [],
   "source": []
  },
  {
   "cell_type": "code",
   "execution_count": null,
   "metadata": {},
   "outputs": [],
   "source": []
  },
  {
   "cell_type": "code",
   "execution_count": null,
   "metadata": {},
   "outputs": [],
   "source": []
  },
  {
   "cell_type": "code",
   "execution_count": null,
   "metadata": {},
   "outputs": [],
   "source": []
  },
  {
   "cell_type": "code",
   "execution_count": null,
   "metadata": {},
   "outputs": [],
   "source": []
  },
  {
   "cell_type": "code",
   "execution_count": null,
   "metadata": {},
   "outputs": [],
   "source": []
  },
  {
   "cell_type": "code",
   "execution_count": null,
   "metadata": {},
   "outputs": [],
   "source": []
  },
  {
   "cell_type": "code",
   "execution_count": null,
   "metadata": {},
   "outputs": [],
   "source": []
  },
  {
   "cell_type": "code",
   "execution_count": null,
   "metadata": {},
   "outputs": [],
   "source": []
  },
  {
   "cell_type": "code",
   "execution_count": null,
   "metadata": {},
   "outputs": [],
   "source": []
  },
  {
   "cell_type": "code",
   "execution_count": null,
   "metadata": {},
   "outputs": [],
   "source": []
  },
  {
   "cell_type": "code",
   "execution_count": null,
   "metadata": {},
   "outputs": [],
   "source": []
  },
  {
   "cell_type": "code",
   "execution_count": null,
   "metadata": {},
   "outputs": [],
   "source": []
  },
  {
   "cell_type": "code",
   "execution_count": null,
   "metadata": {},
   "outputs": [],
   "source": []
  },
  {
   "cell_type": "code",
   "execution_count": null,
   "metadata": {},
   "outputs": [],
   "source": []
  },
  {
   "cell_type": "code",
   "execution_count": null,
   "metadata": {},
   "outputs": [],
   "source": []
  },
  {
   "cell_type": "code",
   "execution_count": null,
   "metadata": {},
   "outputs": [],
   "source": []
  },
  {
   "cell_type": "code",
   "execution_count": null,
   "metadata": {},
   "outputs": [],
   "source": []
  },
  {
   "cell_type": "code",
   "execution_count": null,
   "metadata": {},
   "outputs": [],
   "source": []
  },
  {
   "cell_type": "code",
   "execution_count": null,
   "metadata": {},
   "outputs": [],
   "source": []
  },
  {
   "cell_type": "code",
   "execution_count": null,
   "metadata": {},
   "outputs": [],
   "source": []
  },
  {
   "cell_type": "code",
   "execution_count": null,
   "metadata": {},
   "outputs": [],
   "source": []
  },
  {
   "cell_type": "code",
   "execution_count": null,
   "metadata": {},
   "outputs": [],
   "source": []
  },
  {
   "cell_type": "code",
   "execution_count": null,
   "metadata": {},
   "outputs": [],
   "source": []
  },
  {
   "cell_type": "code",
   "execution_count": null,
   "metadata": {},
   "outputs": [],
   "source": []
  },
  {
   "cell_type": "code",
   "execution_count": null,
   "metadata": {},
   "outputs": [],
   "source": []
  },
  {
   "cell_type": "code",
   "execution_count": null,
   "metadata": {},
   "outputs": [],
   "source": []
  },
  {
   "cell_type": "code",
   "execution_count": null,
   "metadata": {},
   "outputs": [],
   "source": []
  }
 ],
 "metadata": {
  "kernelspec": {
   "display_name": "Python 3",
   "language": "python",
   "name": "python3"
  },
  "language_info": {
   "codemirror_mode": {
    "name": "ipython",
    "version": 3
   },
   "file_extension": ".py",
   "mimetype": "text/x-python",
   "name": "python",
   "nbconvert_exporter": "python",
   "pygments_lexer": "ipython3",
   "version": "3.7.3"
  }
 },
 "nbformat": 4,
 "nbformat_minor": 4
}
